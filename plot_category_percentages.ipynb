{
  "cells": [
    {
      "cell_type": "markdown",
      "metadata": {},
      "source": [
        "# Category Percentage Share Over Time\n",
        "\n",
        "This notebook reads CSVs from `output_pass4b/` and plots the percentage share of mentions for categories by year. It aggregates counts by year and category, normalizes to 100% per year, and visualizes the composition using a clean, publication-quality 100% stacked area chart."
      ]
    },
    {
      "cell_type": "code",
      "execution_count": null,
      "metadata": {},
      "outputs": [],
      "source": [
        "# Imports and styling\n",
        "from pathlib import Path\n",
        "import re\n",
        "import pandas as pd\n",
        "import numpy as np\n",
        "import matplotlib.pyplot as plt\n",
        "from matplotlib.ticker import MaxNLocator, PercentFormatter\n",
        "from matplotlib import cm\n",
        "\n",
        "%config InlineBackend.figure_format = 'retina'  # crisp plots\n",
        "\n",
        "def set_plot_style():\n",
        "    candidates = ['seaborn-v0_8-whitegrid', 'seaborn-whitegrid', 'ggplot']\n",
        "    for s in candidates:\n",
        "        try:\n",
        "            plt.style.use(s)\n",
        "            break\n",
        "        except Exception:\n",
        "            continue\n",
        "    plt.rcParams.update({\n",
        "        'figure.figsize': (12, 7),\n",
        "        'figure.dpi': 120,\n",
        "        'savefig.dpi': 150,\n",
        "        'axes.titlesize': 16,\n",
        "        'axes.labelsize': 12,\n",
        "        'legend.fontsize': 10,\n",
        "        'axes.spines.top': False,\n",
        "        'axes.spines.right': False,\n",
        "        'axes.grid': True,\n",
        "        'grid.alpha': 0.3,\n",
        "    })\n",
        "    try:\n",
        "        import seaborn as sns  # noqa: F401\n",
        "        sns.set_theme(style='whitegrid', context='notebook')\n",
        "    except Exception:\n",
        "        pass\n",
        "\n",
        "set_plot_style()\n"
      ]
    },
    {
      "cell_type": "code",
      "execution_count": null,
      "metadata": {},
      "outputs": [],
      "source": [
        "# Parameters\n",
        "DATA_DIR = Path('output_pass4b')\n",
        "TOP_K = 10  # number of top categories to display; remainder becomes 'Other'\n",
        "\n",
        "CATEGORY_COL_CANDIDATES = [\n",
        "    'category', 'universal_category', 'universal categories', 'universal_categories', 'Category'\n",
        "]\n"
      ]
    },
    {
      "cell_type": "code",
      "execution_count": null,
      "metadata": {},
      "outputs": [],
      "source": [
        "# Load and concatenate CSVs\n",
        "files = sorted(DATA_DIR.glob('*.csv'))\n",
        "if not files:\n",
        "    raise FileNotFoundError(f'No CSV files found in {DATA_DIR.resolve()}')\n",
        "\n",
        "dfs = []\n",
        "year_re = re.compile(r'(?P<year>\\d{4})')\n",
        "\n",
        "for f in files:\n",
        "    df = pd.read_csv(f)\n",
        "\n",
        "    # Identify category column\n",
        "    cat_col = next((c for c in CATEGORY_COL_CANDIDATES if c in df.columns), None)\n",
        "    if cat_col is None:\n",
        "        raise ValueError(f'No category-like column found in {f.name}. Columns: {list(df.columns)}')\n",
        "    df = df.rename(columns={cat_col: 'category'})\n",
        "\n",
        "    # Ensure year column exists (fallback to filename)\n",
        "    if 'year' not in df.columns:\n",
        "        m = year_re.search(f.name)\n",
        "        if not m:\n",
        "            raise ValueError(f'Cannot infer year from filename: {f.name}')\n",
        "        df['year'] = int(m.group('year'))\n",
        "\n",
        "    # Normalize\n",
        "    df['year'] = pd.to_numeric(df['year'], errors='coerce').astype('Int64')\n",
        "    df = df.dropna(subset=['year'])\n",
        "    df['year'] = df['year'].astype(int)\n",
        "    df['category'] = df['category'].astype(str).str.strip()\n",
        "    df = df[df['category'] != '']\n",
        "\n",
        "    dfs.append(df[['year', 'category']].copy())\n",
        "\n",
        "all_df = pd.concat(dfs, ignore_index=True)\n",
        "all_df.head()\n"
      ]
    },
    {
      "cell_type": "code",
      "execution_count": null,
      "metadata": {},
      "outputs": [],
      "source": [
        "# Aggregate counts across all categories\n",
        "agg = (\n",
        "    all_df.groupby(['year', 'category']).size().reset_index(name='mentions')\n",
        ")\n",
        "totals = agg.groupby('category')['mentions'].sum().sort_values(ascending=False)\n",
        "top_categories = totals.head(TOP_K).index.tolist()\n",
        "\n",
        "pivot_all = (\n",
        "    agg.pivot(index='year', columns='category', values='mentions')\n",
        "       .fillna(0)\n",
        "       .sort_index()\n",
        ")\n",
        "\n",
        "# Normalize to percentages per year\n",
        "row_sums = pivot_all.sum(axis=1)\n",
        "pct = (pivot_all.div(row_sums.replace(0, np.nan), axis=0) * 100).fillna(0)\n",
        "\n",
        "# Keep top categories and fold the rest into 'Other' for readability\n",
        "pct_top = pct[top_categories].copy()\n",
        "pct_top['Other'] = (100 - pct_top.sum(axis=1)).clip(lower=0)\n",
        "pct_top\n"
      ]
    },
    {
      "cell_type": "code",
      "execution_count": null,
      "metadata": {},
      "outputs": [],
      "source": [
        "# Plot: 100% stacked area chart of category share over time\n",
        "set_plot_style()\n",
        "fig_pct, ax = plt.subplots()\n",
        "\n",
        "labels = pct_top.columns.tolist()\n",
        "n = len(labels)\n",
        "try:\n",
        "    import seaborn as sns  # noqa: F401\n",
        "    colors = sns.color_palette('tab20', n_colors=n)\n",
        "except Exception:\n",
        "    colors = [cm.tab20(i) for i in np.linspace(0, 1, n)]\n",
        "\n",
        "ax.stackplot(\n",
        "    pct_top.index,\n",
        "    *[pct_top[c].values for c in labels],\n",
        "    labels=labels,\n",
        "    colors=colors,\n",
        "    alpha=0.9\n",
        ")\n",
        "\n",
        "ax.set_title('Category Share Over Time (Top Categories + Other)')\n",
        "ax.set_xlabel('Year')\n",
        "ax.set_ylabel('Share')\n",
        "ax.xaxis.set_major_locator(MaxNLocator(integer=True))\n",
        "ax.set_ylim(0, 100)\n",
        "ax.yaxis.set_major_formatter(PercentFormatter(xmax=100))\n",
        "ax.set_xticks(pct_top.index.to_list())\n",
        "\n",
        "# Legend outside for clarity\n",
        "ax.legend(title='Category', bbox_to_anchor=(1.02, 1), loc='upper left', borderaxespad=0., frameon=True)\n",
        "\n",
        "plt.tight_layout()\n",
        "plt.show()\n"
      ]
    },
    {
      "cell_type": "markdown",
      "metadata": {},
      "source": [
        "> Optional: Save the percentage plot to a file by running the next cell."
      ]
    },
    {
      "cell_type": "code",
      "execution_count": null,
      "metadata": {},
      "outputs": [],
      "source": [
        "# Optional: save the percentage stacked area plot\n",
        "try:\n",
        "    fig_pct.savefig('category_share_over_time.png', bbox_inches='tight')\n",
        "    print('Saved to category_share_over_time.png')\n",
        "except Exception as e:\n",
        "    print('Figure not saved (was the plot cell run?):', e)\n"
      ]
    }
  ],
  "metadata": {
    "kernelspec": {
      "display_name": "Python 3",
      "language": "python",
      "name": "python3"
    },
    "language_info": {
      "name": "python",
      "pygments_lexer": "ipython3"
    }
  },
  "nbformat": 4,
  "nbformat_minor": 5
}

