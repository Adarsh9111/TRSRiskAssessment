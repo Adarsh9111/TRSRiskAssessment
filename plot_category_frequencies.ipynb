{
  "cells": [
    {
      "cell_type": "markdown",
      "metadata": {},
      "source": [
        "# Category Mentions Over Time\n",
        "\n",
        "This notebook reads CSVs from `output_pass4b/` and plots the frequency of mentions for each category over time. It aggregates counts by year and category, then visualizes the top categories as a clean, publication-quality line chart."
      ]
    },
    {
      "cell_type": "code",
      "execution_count": null,
      "metadata": {},
      "outputs": [],
      "source": [
        "# Imports and styling\n",
        "from pathlib import Path\n",
        "import re\n",
        "import pandas as pd\n",
        "import numpy as np\n",
        "import matplotlib.pyplot as plt\n",
        "from matplotlib.ticker import MaxNLocator\n",
        "from matplotlib import cm\n",
        "\n",
        "%config InlineBackend.figure_format = 'retina'  # crisp plots\n",
        "\n",
        "def set_plot_style():\n",
        "    candidates = ['seaborn-v0_8-whitegrid', 'seaborn-whitegrid', 'ggplot']\n",
        "    for s in candidates:\n",
        "        try:\n",
        "            plt.style.use(s)\n",
        "            break\n",
        "        except Exception:\n",
        "            continue\n",
        "    plt.rcParams.update({\n",
        "        'figure.figsize': (12, 7),\n",
        "        'figure.dpi': 120,\n",
        "        'savefig.dpi': 150,\n",
        "        'axes.titlesize': 16,\n",
        "        'axes.labelsize': 12,\n",
        "        'legend.fontsize': 10,\n",
        "        'axes.spines.top': False,\n",
        "        'axes.spines.right': False,\n",
        "        'axes.grid': True,\n",
        "        'grid.alpha': 0.3,\n",
        "    })\n",
        "    try:\n",
        "        import seaborn as sns  # noqa: F401\n",
        "        sns.set_theme(style='whitegrid', context='notebook')\n",
        "    except Exception:\n",
        "        pass\n",
        "\n",
        "set_plot_style()\n"
      ]
    },
    {
      "cell_type": "code",
      "execution_count": null,
      "metadata": {},
      "outputs": [],
      "source": [
        "# Parameters\n",
        "DATA_DIR = Path('output_pass4b')\n",
        "TOP_K = 12  # number of top categories to plot\n",
        "\n",
        "CATEGORY_COL_CANDIDATES = [\n",
        "    'category', 'universal_category', 'universal categories', 'universal_categories', 'Category'\n",
        "]\n",
        "VERBATIM_COL_CANDIDATES = ['verbatim', 'text', 'snippet']\n"
      ]
    },
    {
      "cell_type": "code",
      "execution_count": null,
      "metadata": {},
      "outputs": [],
      "source": [
        "# Load and concatenate CSVs\n",
        "files = sorted(DATA_DIR.glob('*.csv'))\n",
        "if not files:\n",
        "    raise FileNotFoundError(f'No CSV files found in {DATA_DIR.resolve()}')\n",
        "\n",
        "dfs = []\n",
        "year_re = re.compile(r'(?P<year>\\d{4})')\n",
        "\n",
        "for f in files:\n",
        "    df = pd.read_csv(f)\n",
        "\n",
        "    # Identify category column\n",
        "    cat_col = next((c for c in CATEGORY_COL_CANDIDATES if c in df.columns), None)\n",
        "    if cat_col is None:\n",
        "        raise ValueError(f'No category-like column found in {f.name}. Columns: {list(df.columns)}')\n",
        "    df = df.rename(columns={cat_col: 'category'})\n",
        "\n",
        "    # Ensure year column exists (fallback to filename)\n",
        "    if 'year' not in df.columns:\n",
        "        m = year_re.search(f.name)\n",
        "        if not m:\n",
        "            raise ValueError(f'Cannot infer year from filename: {f.name}')\n",
        "        df['year'] = int(m.group('year'))\n",
        "\n",
        "    # Normalize\n",
        "    df['year'] = pd.to_numeric(df['year'], errors='coerce').astype('Int64')\n",
        "    df = df.dropna(subset=['year'])\n",
        "    df['year'] = df['year'].astype(int)\n",
        "    df['category'] = df['category'].astype(str).str.strip()\n",
        "    df = df[df['category'] != '']\n",
        "\n",
        "    dfs.append(df[['year', 'category']].copy())\n",
        "\n",
        "all_df = pd.concat(dfs, ignore_index=True)\n",
        "all_df.head()\n"
      ]
    },
    {
      "cell_type": "code",
      "execution_count": null,
      "metadata": {},
      "outputs": [],
      "source": [
        "# Aggregate counts and select top categories\n",
        "agg = (\n",
        "    all_df.groupby(['year', 'category']).size().reset_index(name='mentions')\n",
        ")\n",
        "\n",
        "totals = agg.groupby('category')['mentions'].sum().sort_values(ascending=False)\n",
        "top_categories = totals.head(TOP_K).index.tolist()\n",
        "\n",
        "filtered = agg[agg['category'].isin(top_categories)]\n",
        "pivot = (\n",
        "    filtered.pivot(index='year', columns='category', values='mentions')\n",
        "           .fillna(0)\n",
        "           .sort_index()\n",
        ")\n",
        "pivot\n"
      ]
    },
    {
      "cell_type": "code",
      "execution_count": null,
      "metadata": {},
      "outputs": [],
      "source": [
        "# Plot: mentions over time for top categories\n",
        "set_plot_style()\n",
        "fig, ax = plt.subplots()\n",
        "\n",
        "n = len(top_categories)\n",
        "try:\n",
        "    import seaborn as sns  # noqa: F401\n",
        "    colors = sns.color_palette('tab20', n_colors=n)\n",
        "except Exception:\n",
        "    colors = [cm.tab20(i) for i in np.linspace(0, 1, n)]\n",
        "\n",
        "for i, cat in enumerate(top_categories):\n",
        "    y = pivot.get(cat)\n",
        "    if y is None:\n",
        "        continue\n",
        "    ax.plot(\n",
        "        pivot.index,\n",
        "        y.values,\n",
        "        label=cat,\n",
        "        color=colors[i],\n",
        "        linewidth=2.25,\n",
        "        marker='o',\n",
        "        markersize=4,\n",
        "    )\n",
        "\n",
        "ax.set_title('Category Mentions Over Time')\n",
        "ax.set_xlabel('Year')\n",
        "ax.set_ylabel('Mentions')\n",
        "ax.xaxis.set_major_locator(MaxNLocator(integer=True))\n",
        "ax.set_xticks(pivot.index.to_list())\n",
        "ax.set_xlim(pivot.index.min() - 0.2, pivot.index.max() + 0.2)\n",
        "ax.grid(True, which='major', axis='both', linestyle='-', alpha=0.25)\n",
        "\n",
        "# Place legend outside the plot for readability\n",
        "ax.legend(title='Category', bbox_to_anchor=(1.02, 1), loc='upper left', borderaxespad=0., frameon=True)\n",
        "\n",
        "plt.tight_layout()\n",
        "plt.show()\n"
      ]
    },
    {
      "cell_type": "markdown",
      "metadata": {},
      "source": [
        "> Optional: Save the figure to a file by running the next cell."
      ]
    },
    {
      "cell_type": "code",
      "execution_count": null,
      "metadata": {},
      "outputs": [],
      "source": [
        "# Optional: save the last figure to a PNG\n",
        "try:\n",
        "    fig.savefig('category_mentions_over_time.png', bbox_inches='tight')\n",
        "    print('Saved to category_mentions_over_time.png')\n",
        "except Exception as e:\n",
        "    print('Figure not saved (was the plot cell run?):', e)\n"
      ]
    }
  ],
  "metadata": {
    "kernelspec": {
      "display_name": "Python 3",
      "language": "python",
      "name": "python3"
    },
    "language_info": {
      "name": "python",
      "pygments_lexer": "ipython3"
    }
  },
  "nbformat": 4,
  "nbformat_minor": 5
}

